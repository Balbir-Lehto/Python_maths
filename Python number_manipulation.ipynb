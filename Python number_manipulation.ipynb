{
 "cells": [
  {
   "cell_type": "code",
   "execution_count": 3,
   "id": "e6ae0707",
   "metadata": {},
   "outputs": [
    {
     "name": "stdout",
     "output_type": "stream",
     "text": [
      "1\n",
      "3\n",
      "5\n",
      "7\n",
      "9\n",
      "11\n",
      "13\n",
      "15\n",
      "17\n",
      "19\n"
     ]
    }
   ],
   "source": [
    "#Question 1: Create a for loop that counts from 0 to 20, and prints odd numbers to the screen. Use the skeleton below:\n",
    "for i in range(1, 21):\n",
    "    if i%2!=0:\n",
    "        print(i)"
   ]
  },
  {
   "cell_type": "code",
   "execution_count": 23,
   "id": "da56290f",
   "metadata": {},
   "outputs": [
    {
     "name": "stdout",
     "output_type": "stream",
     "text": [
      "1\n",
      "3\n",
      "5\n",
      "7\n",
      "9\n",
      "11\n",
      "13\n",
      "15\n",
      "17\n",
      "19\n",
      "21\n"
     ]
    }
   ],
   "source": [
    "#Question 2: Create a while loop that counts from 0 to 21, and prints odd numbers to the screen. Use the skeleton below:\n",
    "x = 1\n",
    "while x <= 21:\n",
    "    if x%2!=0:\n",
    "        print(x)\n",
    "    x+=1"
   ]
  },
  {
   "cell_type": "code",
   "execution_count": 7,
   "id": "02029df0",
   "metadata": {},
   "outputs": [
    {
     "name": "stdout",
     "output_type": "stream",
     "text": [
      "john.smith\n"
     ]
    }
   ],
   "source": [
    "#Question 3: Create a program with a for loop and a break statement. The program should iterate over \n",
    "#characters in an email address, exit the loop when it reaches the @ symbol, and print the part before @ on one line. \n",
    "#Use the skeleton below:\n",
    "mystring=\"\"\n",
    "for ch in \"john.smith@pythoninstitute.org\":\n",
    "    \n",
    "    if ch == \"@\":\n",
    "       print(mystring)\n",
    "       break\n",
    "    mystring+=ch\n"
   ]
  },
  {
   "cell_type": "code",
   "execution_count": 26,
   "id": "1d335cfe",
   "metadata": {},
   "outputs": [
    {
     "name": "stdout",
     "output_type": "stream",
     "text": [
      "john.smith\n"
     ]
    }
   ],
   "source": [
    "#Question 3 using split()\n",
    "email=\"john.smith@pythoninstitute.org\"\n",
    "print(email.split(\"@\")[0])"
   ]
  },
  {
   "cell_type": "code",
   "execution_count": 15,
   "id": "f1448dc8",
   "metadata": {},
   "outputs": [
    {
     "name": "stdout",
     "output_type": "stream",
     "text": [
      "x165x318x651x\n"
     ]
    }
   ],
   "source": [
    "#Question 4: Create a program with a for loop and a continue statement. The program should iterate over a string of digits, \n",
    "#replace each 0 with x, and print the modified string to the screen. Use the skeleton below:\n",
    "mystring2 = \"0165031806510\"\n",
    "for digit in mystring2:\n",
    "    if digit == \"0\":\n",
    "        ammendedstring = mystring2.replace(digit,\"x\")\n",
    "print(ammendedstring)\n",
    "   \n"
   ]
  },
  {
   "cell_type": "code",
   "execution_count": 12,
   "id": "dd0780c3",
   "metadata": {},
   "outputs": [
    {
     "name": "stdout",
     "output_type": "stream",
     "text": [
      "x165x318x651x\n"
     ]
    }
   ],
   "source": [
    "# another way to do the same thing for Q2\n",
    "mystring2 = \"0165031806510\"\n",
    "ammendedstring = mystring2.replace(\"0\",\"x\")\n",
    "print(ammendedstring)"
   ]
  },
  {
   "cell_type": "code",
   "execution_count": 16,
   "id": "9919a1ed",
   "metadata": {},
   "outputs": [
    {
     "name": "stdout",
     "output_type": "stream",
     "text": [
      "4\n",
      "3\n",
      "2\n",
      "0\n"
     ]
    }
   ],
   "source": [
    "#Question 5: What is the output of the following code?\n",
    "n = 3\n",
    " \n",
    "while n > 0:\n",
    "    print(n + 1)\n",
    "    n -= 1\n",
    "else:\n",
    "    print(n)\n"
   ]
  },
  {
   "cell_type": "code",
   "execution_count": 17,
   "id": "10f16175",
   "metadata": {},
   "outputs": [
    {
     "name": "stdout",
     "output_type": "stream",
     "text": [
      "4\n",
      "3\n",
      "2\n",
      "0\n"
     ]
    }
   ],
   "source": [
    "#Question 6: What is the output of the following code?\n",
    "n = 3\n",
    " \n",
    "while n > 0:\n",
    "    print(n + 1)\n",
    "    n -= 1\n",
    "else:\n",
    "    print(n)\n"
   ]
  },
  {
   "cell_type": "code",
   "execution_count": 19,
   "id": "99351ef8",
   "metadata": {},
   "outputs": [
    {
     "name": "stdout",
     "output_type": "stream",
     "text": [
      "0\n",
      "3\n"
     ]
    }
   ],
   "source": [
    "#Question 7: What is the output of the following code?\n",
    "for i in range(0, 6, 3):\n",
    "    print(i)\n",
    "#0,3"
   ]
  },
  {
   "cell_type": "code",
   "execution_count": 3,
   "id": "60cfea9a",
   "metadata": {},
   "outputs": [],
   "source": [
    "from sympy import isprime"
   ]
  },
  {
   "cell_type": "code",
   "execution_count": 22,
   "id": "333a63ed",
   "metadata": {},
   "outputs": [
    {
     "name": "stdout",
     "output_type": "stream",
     "text": [
      "[2, 3, 5, 7, 11, 13, 17, 19, 23, 29, 31, 37, 41, 43, 47, 53, 59, 61, 67, 71, 73, 79, 83, 89, 97]\n"
     ]
    }
   ],
   "source": [
    "#Question 8: Write a Python program to find all prime numbers between 0 and 100.\n",
    "myprimes = []\n",
    "for i in range (0, 100):\n",
    "    if isprime(i) ==True:\n",
    "        myprimes.append(i)\n",
    "print(myprimes)"
   ]
  },
  {
   "cell_type": "code",
   "execution_count": 21,
   "id": "f44e012a",
   "metadata": {},
   "outputs": [
    {
     "name": "stdout",
     "output_type": "stream",
     "text": [
      "[2, 3, 5, 7, 11, 13, 17, 19, 23, 29, 31, 37, 41, 43, 47, 53, 59, 61, 67, 71, 73, 79, 83, 89, 97]\n"
     ]
    }
   ],
   "source": [
    "#Question 8: Write a Python program to find all prime numbers between 0 and 100. Brute force!!\n",
    "n=1\n",
    "my_primes=[]\n",
    "while n<=100:\n",
    "   \n",
    "    if n == 2 or n == 3 or n == 5 or n == 7:\n",
    "        my_primes.append(n) \n",
    "    \n",
    "    elif n > 2 and n%2!= 0:\n",
    "        if n%3!= 0 and n%5!= 0 and n%7!= 0:\n",
    "            my_primes.append(n)\n",
    "            \n",
    "    n+=1\n",
    "print(my_primes)"
   ]
  },
  {
   "cell_type": "code",
   "execution_count": 16,
   "id": "3d05c50f",
   "metadata": {},
   "outputs": [
    {
     "name": "stdout",
     "output_type": "stream",
     "text": [
      "{3, 5, 7, 9, 11, 13, 15, 17, 19, 21, 23, 25, 27, 29, 31, 33, 35, 37, 39, 41, 43, 45, 47, 49, 51, 53, 55, 57, 59, 61, 63, 65, 67, 69, 71, 73, 75, 77, 79, 81, 83, 85, 87, 89, 91, 93, 95, 97, 99}\n"
     ]
    }
   ],
   "source": [
    "# find primes between 0 and 100 *** does not work, still have multiples of 5 and 7\n",
    "my_primes1 = set()\n",
    "\n",
    "for n in range (2,101):\n",
    "    for i in range (2,101):\n",
    "        if n%i!=0 and n%2!=0:\n",
    "            my_primes1.add(n)\n",
    "    \n",
    "print(my_primes1)\n"
   ]
  },
  {
   "cell_type": "code",
   "execution_count": 18,
   "id": "2332280b",
   "metadata": {},
   "outputs": [
    {
     "name": "stdout",
     "output_type": "stream",
     "text": [
      "[2, 3, 5, 7, 11, 13, 17, 19, 23, 29, 31, 37, 41, 43, 47, 53, 59, 61, 67, 71, 73, 79, 83, 89, 97]\n"
     ]
    }
   ],
   "source": [
    "#This prime number finder divides the number by all numbers before to se if it is a prime... long process\n",
    "my_primes2 = []\n",
    "for n in range(2, 101):\n",
    "    is_prime = True\n",
    "    for i in range(2, n):\n",
    "        if n % i == 0:\n",
    "            is_prime = False\n",
    "            break\n",
    "    if is_prime:\n",
    "        my_primes2.append(n)\n",
    "print(my_primes2)"
   ]
  },
  {
   "cell_type": "code",
   "execution_count": 21,
   "id": "9641c743",
   "metadata": {},
   "outputs": [
    {
     "name": "stdout",
     "output_type": "stream",
     "text": [
      "{2, 3, 5, 7, 11, 13, 17, 19, 23, 29, 31, 37, 41, 43, 47, 53, 59, 61, 67, 71, 73, 79, 83, 89, 97}\n"
     ]
    }
   ],
   "source": [
    "#This prime finder divides all numbers by the sq rt of itself to see if it is prime(in a pair of factors atleast \n",
    "#one must be less than the sqr rt of itself.)\n",
    "my_primes3 =set()\n",
    "\n",
    "for num in range (2,100):\n",
    "    is_prime = True\n",
    "    for i in range (2,(int(num**0.5)+2),1):\n",
    "        if num%i==0 and num>i:\n",
    "          \n",
    "            is_prime = False\n",
    "            break\n",
    "           \n",
    "    if is_prime:\n",
    "        my_primes3.add(num)\n",
    "                    \n",
    "print(my_primes3)\n"
   ]
  },
  {
   "cell_type": "code",
   "execution_count": 22,
   "id": "95320eb5",
   "metadata": {},
   "outputs": [
    {
     "name": "stdout",
     "output_type": "stream",
     "text": [
      "[2, 3, 5, 7, 11, 13, 17, 19, 23, 29, 31, 37, 41, 43, 47, 53, 59, 61, 67, 71, 73, 79, 83, 89, 97]\n"
     ]
    }
   ],
   "source": [
    "my_primes4 =[]\n",
    "\n",
    "for num in range (2,100):\n",
    "    is_prime = True\n",
    "    for i in my_primes4:\n",
    "        if num%i==0:\n",
    "          \n",
    "            is_prime = False\n",
    "            break\n",
    "           \n",
    "    if is_prime:\n",
    "        my_primes4.append(num)\n",
    "                    \n",
    "print(my_primes4)"
   ]
  },
  {
   "cell_type": "code",
   "execution_count": 23,
   "id": "aec485ae",
   "metadata": {},
   "outputs": [
    {
     "name": "stdout",
     "output_type": "stream",
     "text": [
      "what number would you like to find the factorial for : 10\n",
      "the Factorial of  10 is  3628800\n"
     ]
    }
   ],
   "source": [
    "#Question 9: Write a  Python program to find the factorial of a number. using a range\n",
    "\n",
    "rawnum= int(input(\"what number would you like to find the factorial for : \"))\n",
    "fact = 1\n",
    "for i in range (1,rawnum +1):\n",
    "    fact*=i\n",
    "print(\"the Factorial of \", rawnum, \"is \", fact)"
   ]
  },
  {
   "cell_type": "code",
   "execution_count": 24,
   "id": "46dbb9de",
   "metadata": {},
   "outputs": [
    {
     "name": "stdout",
     "output_type": "stream",
     "text": [
      "what +ve whole number (under 1,558) would you like to find the factorial for : 10.6\n",
      "the Factorial of  11 is  39916800\n"
     ]
    }
   ],
   "source": [
    "#Question 9: Write a  Python program to find the factorial of a number. using a list\n",
    "rawnum1= float(input(\"what +ve whole number (under 1,558) would you like to find the factorial for : \"))\n",
    "rawnum = round(rawnum1)\n",
    "fact = 1\n",
    "mylist = range (1,rawnum +1)\n",
    "for i in mylist:\n",
    "    fact*=i\n",
    "print(\"the Factorial of \", rawnum, \"is \", fact)\n",
    "    "
   ]
  },
  {
   "cell_type": "code",
   "execution_count": 26,
   "id": "c8d4971c",
   "metadata": {},
   "outputs": [
    {
     "name": "stdout",
     "output_type": "stream",
     "text": [
      "what +ve whole number (under 1,558) would you like to find the factorial for : -10\n",
      " please enter a a number greater than 0 !!!10\n",
      "the Factorial of  10 is  3628800\n"
     ]
    }
   ],
   "source": [
    "#Question 9: Write a  Python program to find the factorial of a number. using a list\n",
    "rawnum1= float(input(\"what +ve whole number (under 1,558) would you like to find the factorial for : \"))\n",
    "if rawnum1<0:\n",
    "    rawnum1 = float(input(\" please enter a a number greater than 0 !!!\"))\n",
    "                    \n",
    "rawnum = round(rawnum1)\n",
    "fact = 1\n",
    "mylist = range (1,rawnum +1)\n",
    "for i in mylist:\n",
    "    fact*=i\n",
    "print(\"the Factorial of \", rawnum, \"is \", fact)"
   ]
  },
  {
   "cell_type": "code",
   "execution_count": null,
   "id": "d49dc5bc",
   "metadata": {},
   "outputs": [],
   "source": []
  },
  {
   "cell_type": "code",
   "execution_count": null,
   "id": "77667f44",
   "metadata": {},
   "outputs": [],
   "source": []
  }
 ],
 "metadata": {
  "kernelspec": {
   "display_name": "Python 3 (ipykernel)",
   "language": "python",
   "name": "python3"
  },
  "language_info": {
   "codemirror_mode": {
    "name": "ipython",
    "version": 3
   },
   "file_extension": ".py",
   "mimetype": "text/x-python",
   "name": "python",
   "nbconvert_exporter": "python",
   "pygments_lexer": "ipython3",
   "version": "3.11.5"
  }
 },
 "nbformat": 4,
 "nbformat_minor": 5
}
